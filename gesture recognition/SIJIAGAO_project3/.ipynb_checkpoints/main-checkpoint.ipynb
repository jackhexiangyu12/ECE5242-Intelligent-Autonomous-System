{
 "cells": [
  {
   "cell_type": "code",
   "execution_count": 578,
   "metadata": {},
   "outputs": [],
   "source": [
    "import numpy as np\n",
    "import pickle\n",
    "from scipy import io\n",
    "import pdb\n",
    "import matplotlib.pyplot as plt\n",
    "import math\n",
    "from __future__ import division\n",
    "import cython\n"
   ]
  },
  {
   "cell_type": "markdown",
   "metadata": {},
   "source": [
    "# 1. function set"
   ]
  },
  {
   "cell_type": "markdown",
   "metadata": {},
   "source": [
    "# 1.1 load data"
   ]
  },
  {
   "cell_type": "code",
   "execution_count": 579,
   "metadata": {},
   "outputs": [],
   "source": [
    "#load data\n",
    "def get_lidar(file_name):\n",
    "    data = io.loadmat(file_name+\".mat\")\n",
    "    lidar = []\n",
    "    angles = np.double(data['Hokuyo0']['angles'][0][0])\n",
    "    ranges = np.array(data['Hokuyo0']['ranges'][0][0]).T\n",
    "    ts_set = data['Hokuyo0']['ts'][0,0][0]\n",
    "    idx = 0\n",
    "    for m in ranges:\n",
    "        tmp = {}\n",
    "        tmp['t'] = ts_set[idx]\n",
    "        tmp['scan'] = m\n",
    "        tmp['angle'] = angles\n",
    "        lidar.append(tmp)\n",
    "        idx = idx + 1\n",
    "    return lidar\n",
    "\n",
    "def get_encoder(file_name):\n",
    "\n",
    "    data = io.loadmat(file_name+\".mat\")\n",
    "    FR = np.double(data['Encoders']['counts'][0,0][0]) ## in meters\n",
    "    FL = np.double(data['Encoders']['counts'][0,0][1])\n",
    "    RR = np.double(data['Encoders']['counts'][0,0][2])\n",
    "    RL = np.double(data['Encoders']['counts'][0,0][3])\n",
    "    ts = np.double(data['Encoders']['ts'][0,0][0])\n",
    "    return FR, FL, RR, RL, ts\n",
    "\n",
    "def get_imu(file_name):\n",
    "\n",
    "    data = io.loadmat(file_name+\".mat\")\n",
    "\n",
    "    acc_x = np.double(data['vals'])[0]\n",
    "    acc_y = np.double(data['vals'])[1]\n",
    "    acc_z = np.double(data['vals'])[2]\n",
    "    gyro_x = np.double(data['vals'])[3]\n",
    "    gyro_y = np.double(data['vals'])[4]\n",
    "    gyro_z = np.double(data['vals'])[5]\t\n",
    "    ts = np.double(data['ts'][0])\n",
    "\n",
    "\n",
    "    return acc_x, acc_y, acc_z, gyro_x, gyro_y, gyro_z, ts\n",
    "\n",
    "\n",
    "\n",
    "\n"
   ]
  },
  {
   "cell_type": "code",
   "execution_count": 580,
   "metadata": {},
   "outputs": [],
   "source": [
    "def dead_reckoning(FL,FR,RL,RR):\n",
    "    res=360\n",
    "    diameter=254\n",
    "    coef=math.pi*diameter/res\n",
    "    scale=1/1.85\n",
    "    width=(476.25 -311.15) / 2 + 311.15\n",
    "    \n",
    "    x,y,theta=[],[],[]\n",
    "    x.append(0)\n",
    "    y.append(0)\n",
    "    theta.append(0)\n",
    "    \n",
    "    for i in range (len(FR)):\n",
    "        dl=(FL[i]+RL[i])/2*coef\n",
    "        dr=(FR[i]+RR[i])/2*coef\n",
    "        dc=(dl+dr)/2/1000\n",
    "        angle=(dr-dl)/width*scale  # in radian\n",
    "        x.append(x[-1]+dc*math.cos(theta[-1]+angle/2))\n",
    "        y.append(y[-1]+dc*math.sin(theta[-1]+angle/2))\n",
    "        theta.append(theta[-1]+angle)\n",
    "\n",
    "    \n",
    "    return x,y,theta"
   ]
  },
  {
   "cell_type": "code",
   "execution_count": 581,
   "metadata": {},
   "outputs": [],
   "source": [
    "#synchronize time instants\n",
    "def sync_time(t,taxis):\n",
    "    taxis=taxis_lidar\n",
    "    t=taxis_encoder[0]\n",
    "    cc=abs(taxis-t).tolist()\n",
    "    output=cc.index(min(cc))\n",
    "    return output"
   ]
  },
  {
   "cell_type": "code",
   "execution_count": 582,
   "metadata": {},
   "outputs": [],
   "source": [
    "#scan from lidar to global axes\n",
    "def lidar2global(scaninlidar,x,y,theta): #2D axis rotation(counterclockwise theta) and transformation (offset=x,y)\n",
    "#x=x[t]\n",
    "#y=y[t]\n",
    "#theta=theta[t]\n",
    "    rotation=[[math.cos(theta),-math.sin(theta)],\n",
    "    [math.sin(theta),math.cos(theta)]]\n",
    "    translation=np.array([x,y])\n",
    "    scanglobal=[]\n",
    "    for i in range(len(scaninlidar)):\n",
    "        cc=np.dot(rotation, scaninlidar[i])+translation\n",
    "        cc=cc.tolist()\n",
    "        scanglobal.append(cc)\n",
    "    return scanglobal"
   ]
  },
  {
   "cell_type": "code",
   "execution_count": 583,
   "metadata": {},
   "outputs": [],
   "source": [
    "def tomapcell(x,y):\n",
    "    res = 0.1\n",
    "    xlim=np.array([-30,30])\n",
    "    ylim=np.array([-30,30])\n",
    "    cellpos=[]\n",
    "    cx=np.ceil((x-xlim[0])/res)-1\n",
    "    cellpos.append(int(cx))\n",
    "    cy=np.ceil((y-ylim[0])/res)-1\n",
    "    cellpos.append(int(cy))\n",
    "    return cellpos"
   ]
  },
  {
   "cell_type": "code",
   "execution_count": 584,
   "metadata": {},
   "outputs": [],
   "source": [
    "#map global scan to map cells\n",
    "def scan2cell(scanglobal):\n",
    "    cellpos=[]\n",
    "    xlim=[-30,30]\n",
    "    ylim=[-30,30]\n",
    "    for i in range (len(scanglobal)):\n",
    "        cc=tomapcell(scanglobal[i][0],scanglobal[i][1])\n",
    "        cellpos.append(cc)\n",
    "    return cellpos"
   ]
  },
  {
   "cell_type": "code",
   "execution_count": 585,
   "metadata": {},
   "outputs": [],
   "source": [
    "def mapcorrelation(update_map,scanglobal):\n",
    "    \n",
    "    x_interval=0.2\n",
    "    y_interval=0.2\n",
    "    C=0\n",
    "    cell_xlim=len(update_map)\n",
    "    cell_ylim=len(update_map[0])\n",
    "    for i in range(len(scanglobal)):\n",
    "        pos1=tomapcell(scanglobal[i][0]-x_interval,scanglobal[i][1]-y_interval)\n",
    "        pos2=tomapcell(scanglobal[i][0]+x_interval,scanglobal[i][1]+y_interval)\n",
    "        for x in range(int(pos1[0]),int(pos2[0])):\n",
    "            for y in range(int(pos1[1]),int(pos2[1])):\n",
    "                if x>=0 and x<=cell_xlim and y>=0 and y<=cell_ylim: ##within map\n",
    "                    C+=update_map[x][y]\n",
    "    return C\n",
    "\n",
    "\n",
    "\n",
    "                   \n",
    "           \n"
   ]
  },
  {
   "cell_type": "code",
   "execution_count": 586,
   "metadata": {},
   "outputs": [],
   "source": [
    "def removeunvalid_cellpos(cellpos):\n",
    "    cell_xlim=599\n",
    "    cell_ylim=599\n",
    "    output=[]\n",
    "    for i in range (len(cellpos)):\n",
    "        if cellpos[i][0]>=0 and cellpos[i][0]<=cell_xlim and cellpos[i][1]>=0 and cellpos[i][1]<=cell_ylim:\n",
    "            output.append(cellpos[i])\n",
    "    return output"
   ]
  },
  {
   "cell_type": "code",
   "execution_count": 587,
   "metadata": {},
   "outputs": [],
   "source": [
    "def sample_particle(x,y,theta,num_particle):\n",
    "    \n",
    "    particle=[]\n",
    "    for i in range (num_particle):\n",
    "        newx=float(x+np.random.normal(0,1,1))\n",
    "        newy=float(y+np.random.normal(0,1,1))\n",
    "        newtheta=float(theta+np.random.normal(0,0.1,1))\n",
    "        per=[]\n",
    "        per.append(newx)\n",
    "        per.append(newy)\n",
    "        per.append(newtheta)\n",
    "        particle.append(per)\n",
    "    return particle"
   ]
  },
  {
   "cell_type": "code",
   "execution_count": 588,
   "metadata": {},
   "outputs": [],
   "source": [
    " def resample(particle,w):\n",
    "        new_particle=[]\n",
    "        for i in range (len(w)):\n",
    "                aa=np.random.uniform(0,1,1)\n",
    "                if aa<w[0]:\n",
    "                    new_particle.append(particle[0])\n",
    "                else:\n",
    "                    for j in range (1,len(w)):\n",
    "                        if aa>sum(w[0:j-1]) and aa<sum(w[0:j]):\n",
    "                            new_particle.append(particle[j])\n",
    "        return new_particle            \n",
    "        \n",
    "    \n",
    "    "
   ]
  },
  {
   "cell_type": "code",
   "execution_count": 589,
   "metadata": {},
   "outputs": [],
   "source": [
    "def unique_cellpos(cellpos):\n",
    "    output = []\n",
    "    for item in cellpos:\n",
    "        if item not in output:\n",
    "            output.append(item)\n",
    "    return output"
   ]
  },
  {
   "cell_type": "code",
   "execution_count": 604,
   "metadata": {},
   "outputs": [],
   "source": [
    "def removeclosescan(scanglobal):\n",
    "    dis=[]\n",
    "    res=0.1\n",
    "    for i in range(len(scanglobal)):\n",
    "        dis.append(np.linalg.norm(scanglobal[i]))\n",
    "    index=np.argsort(dis)\n",
    "    output=[]\n",
    "    output.append(scanglobal[index[0]])\n",
    "    for i in range(1,len(index)):\n",
    "        p1=np.array(scanglobal[index[i]])\n",
    "        p2=np.array(output[-1])\n",
    "        if np.linalg.norm(p1-p2)>res/2:\n",
    "            output.append(scanglobal[index[i]])\n",
    "    return output\n",
    "        \n",
    "\n",
    "    \n"
   ]
  },
  {
   "cell_type": "markdown",
   "metadata": {},
   "source": [
    "# 2. main function"
   ]
  },
  {
   "cell_type": "code",
   "execution_count": 591,
   "metadata": {},
   "outputs": [],
   "source": [
    "def map_initialize(taxis_encoder,taxis_lidar,initial_time,x,y,theta):\n",
    "    res = 0.1;  \n",
    "    pos=tomapcell(30,30)\n",
    "    update_map=[]\n",
    "    for i in range (int(pos[0]+1)):\n",
    "        cx=[]\n",
    "        for j in range (int(pos[1]+1)):\n",
    "            cx.append(0)\n",
    "        update_map.append(cx)\n",
    "\n",
    "    index=sync_time(taxis_encoder[initial_time],taxis_lidar) #lidar scan for current timeinstant, in lidar (robotic) axes\n",
    "    angle=lidar[index]['angle']\n",
    "    scan=lidar[index]['scan']\n",
    "    scaninlidar=[]\n",
    "    for i in range(len(angle)):\n",
    "        cc=[]\n",
    "        cc.append(scan[i]*math.cos(angle[i]))\n",
    "        cc.append(scan[i]*math.sin(angle[i]))\n",
    "        scaninlidar.append(cc)\n",
    "    scanglobal=lidar2global(scaninlidar,x[initial_time],y[initial_time],theta[initial_time]) #lidar scan in global axes\n",
    "    scanglobal=removeclosescan(scanglobal)\n",
    "    cellpos=scan2cell(scanglobal) \n",
    "    cellpos=removeunvalid_cellpos(cellpos)\n",
    "    for i in range (len(cellpos)):\n",
    "        update_map[cellpos[i][0]][cellpos[i][1]]=math.log(9,10)\n",
    "    return update_map,cellpos,scanglobal\n",
    "\n",
    "            \n",
    "        \n"
   ]
  },
  {
   "cell_type": "code",
   "execution_count": 624,
   "metadata": {},
   "outputs": [
    {
     "data": {
      "text/plain": [
       "[<matplotlib.lines.Line2D at 0xcd7f2b0>]"
      ]
     },
     "execution_count": 624,
     "metadata": {},
     "output_type": "execute_result"
    },
    {
     "data": {
      "image/png": "[encoded data removed]",
      "text/plain": [
       "<Figure size 432x288 with 1 Axes>"
      ]
     },
     "metadata": {},
     "output_type": "display_data"
    }
   ],
   "source": [
    "num_particle=30\n",
    "lidar=get_lidar('Hokuyo20') #load data\n",
    "FR,FL,RR,RL,taxis_encoder=get_encoder('Encoders20')\n",
    "acc_x,acc_y,acc_z,gyro_x,gyro_y,gyro_z,taxis_imu=get_imu('imu20')\n",
    "\n",
    "x,y,theta=dead_reckoning(FL,FR,RL,RR) #odometry, dead reckoning\n",
    "occupy_grid=[]\n",
    "taxis_lidar=[] #current lidar scan in lidar(robotic) axes\n",
    "for i in range (len(lidar)):\n",
    "    taxis_lidar.append(lidar[i]['t'])\n",
    "\n",
    "initial_time=100\n",
    "num_iteration=500\n",
    "update_map,cellpos_initial,scanglobal_initial=map_initialize(taxis_encoder,taxis_lidar,initial_time,x,y,theta)\n",
    "grid_x,grid_y=[],[]\n",
    "res=0.1\n",
    "for i in range(len(cellpos_initial)):\n",
    "            grid_x.append(-30+res*cellpos_initial[i][0]+res/2)\n",
    "            grid_y.append(-30+res*cellpos_initial[i][1]+res/2)\n",
    "plt.plot(grid_x,grid_y,'k.')\n",
    "#plt.xlim((-30,30))\n",
    "#plt.ylim((-30,30))"
   ]
  },
  {
   "cell_type": "code",
   "execution_count": 625,
   "metadata": {},
   "outputs": [
    {
     "data": {
      "text/plain": [
       "(-4, 4)"
      ]
     },
     "execution_count": 625,
     "metadata": {},
     "output_type": "execute_result"
    },
    {
     "data": {
      "image/png": "[encoded data removed]",
      "text/plain": [
       "<Figure size 432x288 with 1 Axes>"
      ]
     },
     "metadata": {},
     "output_type": "display_data"
    }
   ],
   "source": [
    "t=initial_time+1\n",
    "#for t in range (initial_time+1,initial_time+num_iteration,1):\n",
    "particle=sample_particle(x[t],y[t],theta[t],num_particle) #generate particle\n",
    "index=sync_time(taxis_encoder[t],taxis_lidar) #lidar scan for current timeinstant, in lidar (robotic) axes\n",
    "angle=lidar[index]['angle']\n",
    "scan=lidar[index]['scan']\n",
    "scaninlidar=[]\n",
    "for i in range(len(angle)):\n",
    "    cc=[]\n",
    "    cc.append(scan[i]*math.cos(angle[i]))\n",
    "    cc.append(scan[i]*math.sin(angle[i]))\n",
    "    scaninlidar.append(cc)\n",
    "scanglobal=[]\n",
    "w=[]\n",
    "for i in range(num_particle):\n",
    "    perscanglobal=lidar2global(scaninlidar,particle[i][0],particle[i][1],particle[i][2])\n",
    "    perscanglobal=removeclosescan(perscanglobal)\n",
    "    scanglobal.append(perscanglobal) \n",
    "    w.append(mapcorrelation(update_map,perscanglobal))\n",
    "\n",
    "particle_maxweight=w.index(max(w)) \n",
    "cellpos=scan2cell(scanglobal[particle_maxweight])\n",
    "cellpos=removeunvalid_cellpos(cellpos)\n",
    "cellpos=unique_cellpos(cellpos)\n",
    "for i in range (len(cellpos)): #update map\n",
    "    update_map[cellpos[i][0]][cellpos[i][1]]+=math.log(9,10)\n",
    "\n",
    "\n",
    "w= [i/sum(w) for i in w]  #resample if necessary\n",
    "if 1/sum([i**2 for i in w]) <num_particle/4:\n",
    "     particle=resample(particle,w)\n",
    "\n",
    "grid_x,grid_y=[],[]\n",
    "res=0.1\n",
    "for i in range(len(update_map)):\n",
    "    for j in range(len(update_map[0])):\n",
    "        if update_map[i][j]>math.log(9,10):\n",
    "            grid_x.append(-30+res*i+res/2)\n",
    "            grid_y.append(-30+res*j+res/2)\n",
    "plt.plot(grid_x,grid_y,'k.')\n",
    "plt.xlim((-4,10))\n",
    "plt.ylim((-4,4))\n",
    "#plt.plot(x,y)\n",
    "    "
   ]
  },
  {
   "cell_type": "markdown",
   "metadata": {},
   "source": [
    "# 3. Gyro Yaw, gyro-->quaternion-->yaw"
   ]
  },
  {
   "cell_type": "code",
   "execution_count": 594,
   "metadata": {},
   "outputs": [],
   "source": [
    "def quaternion_multiply(quaternion0, quaternion1):\n",
    "    w0, x0, y0, z0 = quaternion0\n",
    "    w1, x1, y1, z1 = quaternion1\n",
    "    return np.array([-x1 * x0 - y1 * y0 - z1 * z0 + w1 * w0,\n",
    "                     x1 * w0 + y1 * z0 - z1 * y0 + w1 * x0,\n",
    "                     -x1 * z0 + y1 * w0 + z1 * x0 + w1 * y0,\n",
    "                     x1 * y0 - y1 * x0 + z1 * w0 + w1 * z0], dtype=np.float64)\n",
    "def quaternion2yaw(q):\n",
    "    \n",
    "    output=math.atan2(2*(q[0]*q[3]+q[1]*q[2]),1-2*(q[2]**2+q[3]**2))\n",
    "    output=output*180/math.pi\n",
    "    return output\n",
    "\n",
    "def degree2radian(x):\n",
    "    output=x*math.pi/180\n",
    "    return output\n",
    "\n",
    "def radian2degree(x):\n",
    "    output=x*180/math.pi\n",
    "    return output"
   ]
  },
  {
   "cell_type": "code",
   "execution_count": 595,
   "metadata": {},
   "outputs": [],
   "source": [
    "def quaternion_multiply(quaternion1, quaternion0):\n",
    "    w0, x0, y0, z0 = quaternion0\n",
    "    w1, x1, y1, z1 = quaternion1\n",
    "    return np.array([-x1 * x0 - y1 * y0 - z1 * z0 + w1 * w0,\n",
    "                     x1 * w0 + y1 * z0 - z1 * y0 + w1 * x0,\n",
    "                     -x1 * z0 + y1 * w0 + z1 * x0 + w1 * y0,\n",
    "                     x1 * y0 - y1 * x0 + z1 * w0 + w1 * z0], dtype=np.float64)"
   ]
  },
  {
   "cell_type": "code",
   "execution_count": 596,
   "metadata": {},
   "outputs": [],
   "source": [
    "#quaternion to yaw\n",
    "def quaternion2yaw (q):\n",
    "    output=math.atan2(2*(q[0]*q[3]+q[1]*q[2]),1-2*(q[2]**2+q[3]**2))\n",
    "    return output"
   ]
  }
 ],
 "metadata": {
  "kernelspec": {
   "display_name": "Python 2",
   "language": "python",
   "name": "python2"
  },
  "language_info": {
   "codemirror_mode": {
    "name": "ipython",
    "version": 2
   },
   "file_extension": ".py",
   "mimetype": "text/x-python",
   "name": "python",
   "nbconvert_exporter": "python",
   "pygments_lexer": "ipython2",
   "version": "2.7.15"
  }
 },
 "nbformat": 4,
 "nbformat_minor": 2
}
