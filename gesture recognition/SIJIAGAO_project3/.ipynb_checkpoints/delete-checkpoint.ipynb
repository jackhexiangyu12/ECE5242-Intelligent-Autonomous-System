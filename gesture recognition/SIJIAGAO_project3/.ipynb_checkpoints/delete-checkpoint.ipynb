{
 "cells": [
  {
   "cell_type": "code",
   "execution_count": 3,
   "metadata": {},
   "outputs": [],
   "source": [
    "import numpy as np\n",
    "import matplotlib.pyplot as plt\n",
    "import os\n",
    "import load_data\n",
    "import math\n",
    "import matplotlib.pyplot as plt\n",
    "#from bresenham2D import bresenham2D\n",
    "%matplotlib inline"
   ]
  },
  {
   "cell_type": "code",
   "execution_count": 4,
   "metadata": {},
   "outputs": [],
   "source": [
    "def encoder_trajectory(folder, filename):\n",
    "    encoder_counts = load_data.get_encoder(os.path.join(folder,filename)) # four channels\n",
    "    wheel_diameter = 0.254 #meter\n",
    "    wheel_width = 0.3937 #meter\n",
    "    counts = 360 #per revolution\n",
    "    factor = np.pi*wheel_diameter/counts\n",
    "    scale = 1.85\n",
    "    position = []\n",
    "    # distance of right center for each move in meters\n",
    "    d_r = (encoder_counts[0] + encoder_counts[2]) / 2 * factor\n",
    "    # distance of left center for each move in meters\n",
    "    d_l = (encoder_counts[1] + encoder_counts[3]) / 2 * factor\n",
    "    # compute angle theta from geometry\n",
    "    theta = (d_r-d_l)/(scale*wheel_width)\n",
    "    theta = np.add.accumulate(theta)\n",
    "    # compute coordinates x and y in world frame\n",
    "    x = ((d_r + d_l)/2)*np.cos(theta)\n",
    "    y = ((d_r + d_l)/2)*np.sin(theta)\n",
    "    x = np.add.accumulate(x,axis=0)\n",
    "    y = np.add.accumulate(y,axis=0)\n",
    "\n",
    "    for i in range (len(x)):\n",
    "        position.append((x[i],y[i],theta[i]))\n",
    "\n",
    "    plt.plot(x,y)\n",
    "    plt.show\n",
    "    return position"
   ]
  },
  {
   "cell_type": "code",
   "execution_count": 5,
   "metadata": {
    "scrolled": true
   },
   "outputs": [
    {
     "ename": "IOError",
     "evalue": "[Errno 2] No such file or directory: 'data\\\\Encoders20.mat'",
     "output_type": "error",
     "traceback": [
      "\u001b[1;31m---------------------------------------------------------------------------\u001b[0m",
      "\u001b[1;31mIOError\u001b[0m                                   Traceback (most recent call last)",
      "\u001b[1;32m<ipython-input-5-781e19929c43>\u001b[0m in \u001b[0;36m<module>\u001b[1;34m()\u001b[0m\n\u001b[0;32m      1\u001b[0m \u001b[0mfolder\u001b[0m \u001b[1;33m=\u001b[0m \u001b[1;34m'data'\u001b[0m\u001b[1;33m\u001b[0m\u001b[0m\n\u001b[0;32m      2\u001b[0m \u001b[0mfilename\u001b[0m \u001b[1;33m=\u001b[0m \u001b[1;34m'Encoders20'\u001b[0m\u001b[1;33m\u001b[0m\u001b[0m\n\u001b[1;32m----> 3\u001b[1;33m \u001b[0mposition_travel\u001b[0m \u001b[1;33m=\u001b[0m \u001b[0mencoder_trajectory\u001b[0m\u001b[1;33m(\u001b[0m\u001b[0mfolder\u001b[0m\u001b[1;33m,\u001b[0m \u001b[0mfilename\u001b[0m\u001b[1;33m)\u001b[0m\u001b[1;33m\u001b[0m\u001b[0m\n\u001b[0m",
      "\u001b[1;32m<ipython-input-4-fa0c7582946d>\u001b[0m in \u001b[0;36mencoder_trajectory\u001b[1;34m(folder, filename)\u001b[0m\n\u001b[0;32m      1\u001b[0m \u001b[1;32mdef\u001b[0m \u001b[0mencoder_trajectory\u001b[0m\u001b[1;33m(\u001b[0m\u001b[0mfolder\u001b[0m\u001b[1;33m,\u001b[0m \u001b[0mfilename\u001b[0m\u001b[1;33m)\u001b[0m\u001b[1;33m:\u001b[0m\u001b[1;33m\u001b[0m\u001b[0m\n\u001b[1;32m----> 2\u001b[1;33m     \u001b[0mencoder_counts\u001b[0m \u001b[1;33m=\u001b[0m \u001b[0mload_data\u001b[0m\u001b[1;33m.\u001b[0m\u001b[0mget_encoder\u001b[0m\u001b[1;33m(\u001b[0m\u001b[0mos\u001b[0m\u001b[1;33m.\u001b[0m\u001b[0mpath\u001b[0m\u001b[1;33m.\u001b[0m\u001b[0mjoin\u001b[0m\u001b[1;33m(\u001b[0m\u001b[0mfolder\u001b[0m\u001b[1;33m,\u001b[0m\u001b[0mfilename\u001b[0m\u001b[1;33m)\u001b[0m\u001b[1;33m)\u001b[0m \u001b[1;31m# four channels\u001b[0m\u001b[1;33m\u001b[0m\u001b[0m\n\u001b[0m\u001b[0;32m      3\u001b[0m     \u001b[0mwheel_diameter\u001b[0m \u001b[1;33m=\u001b[0m \u001b[1;36m0.254\u001b[0m \u001b[1;31m#meter\u001b[0m\u001b[1;33m\u001b[0m\u001b[0m\n\u001b[0;32m      4\u001b[0m     \u001b[0mwheel_width\u001b[0m \u001b[1;33m=\u001b[0m \u001b[1;36m0.3937\u001b[0m \u001b[1;31m#meter\u001b[0m\u001b[1;33m\u001b[0m\u001b[0m\n\u001b[0;32m      5\u001b[0m     \u001b[0mcounts\u001b[0m \u001b[1;33m=\u001b[0m \u001b[1;36m360\u001b[0m \u001b[1;31m#per revolution\u001b[0m\u001b[1;33m\u001b[0m\u001b[0m\n",
      "\u001b[1;32mC:\\Users\\User\\SIJIAGAO_project3\\load_data.py\u001b[0m in \u001b[0;36mget_encoder\u001b[1;34m(file_name)\u001b[0m\n\u001b[0;32m     26\u001b[0m \u001b[1;32mdef\u001b[0m \u001b[0mget_encoder\u001b[0m\u001b[1;33m(\u001b[0m\u001b[0mfile_name\u001b[0m\u001b[1;33m)\u001b[0m\u001b[1;33m:\u001b[0m\u001b[1;33m\u001b[0m\u001b[0m\n\u001b[0;32m     27\u001b[0m \u001b[1;33m\u001b[0m\u001b[0m\n\u001b[1;32m---> 28\u001b[1;33m         \u001b[0mdata\u001b[0m \u001b[1;33m=\u001b[0m \u001b[0mio\u001b[0m\u001b[1;33m.\u001b[0m\u001b[0mloadmat\u001b[0m\u001b[1;33m(\u001b[0m\u001b[0mfile_name\u001b[0m\u001b[1;33m+\u001b[0m\u001b[1;34m\".mat\"\u001b[0m\u001b[1;33m)\u001b[0m\u001b[1;33m\u001b[0m\u001b[0m\n\u001b[0m\u001b[0;32m     29\u001b[0m \u001b[1;31m#       pdb.set_trace()\u001b[0m\u001b[1;33m\u001b[0m\u001b[1;33m\u001b[0m\u001b[0m\n\u001b[0;32m     30\u001b[0m \u001b[1;33m\u001b[0m\u001b[0m\n",
      "\u001b[1;32mC:\\Users\\User\\Anaconda2\\lib\\site-packages\\scipy\\io\\matlab\\mio.pyc\u001b[0m in \u001b[0;36mloadmat\u001b[1;34m(file_name, mdict, appendmat, **kwargs)\u001b[0m\n\u001b[0;32m    139\u001b[0m     \"\"\"\n\u001b[0;32m    140\u001b[0m     \u001b[0mvariable_names\u001b[0m \u001b[1;33m=\u001b[0m \u001b[0mkwargs\u001b[0m\u001b[1;33m.\u001b[0m\u001b[0mpop\u001b[0m\u001b[1;33m(\u001b[0m\u001b[1;34m'variable_names'\u001b[0m\u001b[1;33m,\u001b[0m \u001b[0mNone\u001b[0m\u001b[1;33m)\u001b[0m\u001b[1;33m\u001b[0m\u001b[0m\n\u001b[1;32m--> 141\u001b[1;33m     \u001b[0mMR\u001b[0m\u001b[1;33m,\u001b[0m \u001b[0mfile_opened\u001b[0m \u001b[1;33m=\u001b[0m \u001b[0mmat_reader_factory\u001b[0m\u001b[1;33m(\u001b[0m\u001b[0mfile_name\u001b[0m\u001b[1;33m,\u001b[0m \u001b[0mappendmat\u001b[0m\u001b[1;33m,\u001b[0m \u001b[1;33m**\u001b[0m\u001b[0mkwargs\u001b[0m\u001b[1;33m)\u001b[0m\u001b[1;33m\u001b[0m\u001b[0m\n\u001b[0m\u001b[0;32m    142\u001b[0m     \u001b[0mmatfile_dict\u001b[0m \u001b[1;33m=\u001b[0m \u001b[0mMR\u001b[0m\u001b[1;33m.\u001b[0m\u001b[0mget_variables\u001b[0m\u001b[1;33m(\u001b[0m\u001b[0mvariable_names\u001b[0m\u001b[1;33m)\u001b[0m\u001b[1;33m\u001b[0m\u001b[0m\n\u001b[0;32m    143\u001b[0m     \u001b[1;32mif\u001b[0m \u001b[0mmdict\u001b[0m \u001b[1;32mis\u001b[0m \u001b[1;32mnot\u001b[0m \u001b[0mNone\u001b[0m\u001b[1;33m:\u001b[0m\u001b[1;33m\u001b[0m\u001b[0m\n",
      "\u001b[1;32mC:\\Users\\User\\Anaconda2\\lib\\site-packages\\scipy\\io\\matlab\\mio.pyc\u001b[0m in \u001b[0;36mmat_reader_factory\u001b[1;34m(file_name, appendmat, **kwargs)\u001b[0m\n\u001b[0;32m     62\u001b[0m \u001b[1;33m\u001b[0m\u001b[0m\n\u001b[0;32m     63\u001b[0m     \"\"\"\n\u001b[1;32m---> 64\u001b[1;33m     \u001b[0mbyte_stream\u001b[0m\u001b[1;33m,\u001b[0m \u001b[0mfile_opened\u001b[0m \u001b[1;33m=\u001b[0m \u001b[0m_open_file\u001b[0m\u001b[1;33m(\u001b[0m\u001b[0mfile_name\u001b[0m\u001b[1;33m,\u001b[0m \u001b[0mappendmat\u001b[0m\u001b[1;33m)\u001b[0m\u001b[1;33m\u001b[0m\u001b[0m\n\u001b[0m\u001b[0;32m     65\u001b[0m     \u001b[0mmjv\u001b[0m\u001b[1;33m,\u001b[0m \u001b[0mmnv\u001b[0m \u001b[1;33m=\u001b[0m \u001b[0mget_matfile_version\u001b[0m\u001b[1;33m(\u001b[0m\u001b[0mbyte_stream\u001b[0m\u001b[1;33m)\u001b[0m\u001b[1;33m\u001b[0m\u001b[0m\n\u001b[0;32m     66\u001b[0m     \u001b[1;32mif\u001b[0m \u001b[0mmjv\u001b[0m \u001b[1;33m==\u001b[0m \u001b[1;36m0\u001b[0m\u001b[1;33m:\u001b[0m\u001b[1;33m\u001b[0m\u001b[0m\n",
      "\u001b[1;32mC:\\Users\\User\\Anaconda2\\lib\\site-packages\\scipy\\io\\matlab\\mio.pyc\u001b[0m in \u001b[0;36m_open_file\u001b[1;34m(file_like, appendmat)\u001b[0m\n\u001b[0;32m     37\u001b[0m             \u001b[1;32mif\u001b[0m \u001b[0mappendmat\u001b[0m \u001b[1;32mand\u001b[0m \u001b[1;32mnot\u001b[0m \u001b[0mfile_like\u001b[0m\u001b[1;33m.\u001b[0m\u001b[0mendswith\u001b[0m\u001b[1;33m(\u001b[0m\u001b[1;34m'.mat'\u001b[0m\u001b[1;33m)\u001b[0m\u001b[1;33m:\u001b[0m\u001b[1;33m\u001b[0m\u001b[0m\n\u001b[0;32m     38\u001b[0m                 \u001b[0mfile_like\u001b[0m \u001b[1;33m+=\u001b[0m \u001b[1;34m'.mat'\u001b[0m\u001b[1;33m\u001b[0m\u001b[0m\n\u001b[1;32m---> 39\u001b[1;33m             \u001b[1;32mreturn\u001b[0m \u001b[0mopen\u001b[0m\u001b[1;33m(\u001b[0m\u001b[0mfile_like\u001b[0m\u001b[1;33m,\u001b[0m \u001b[1;34m'rb'\u001b[0m\u001b[1;33m)\u001b[0m\u001b[1;33m,\u001b[0m \u001b[0mTrue\u001b[0m\u001b[1;33m\u001b[0m\u001b[0m\n\u001b[0m\u001b[0;32m     40\u001b[0m         \u001b[1;32melse\u001b[0m\u001b[1;33m:\u001b[0m\u001b[1;33m\u001b[0m\u001b[0m\n\u001b[0;32m     41\u001b[0m             \u001b[1;32mraise\u001b[0m \u001b[0mIOError\u001b[0m\u001b[1;33m(\u001b[0m\u001b[1;34m'Reader needs file name or open file-like object'\u001b[0m\u001b[1;33m)\u001b[0m\u001b[1;33m\u001b[0m\u001b[0m\n",
      "\u001b[1;31mIOError\u001b[0m: [Errno 2] No such file or directory: 'data\\\\Encoders20.mat'"
     ]
    }
   ],
   "source": [
    "folder = 'data'\n",
    "filename = 'Encoders20'\n",
    "position_travel = encoder_trajectory(folder, filename)"
   ]
  },
  {
   "cell_type": "code",
   "execution_count": null,
   "metadata": {
    "scrolled": true
   },
   "outputs": [],
   "source": [
    "def align_time(encoder_time, lidar_time, lidar): # align time with respect to encoder time stamp\n",
    "    lidar_range = []\n",
    "    lidar_angle = []\n",
    "    size = len(encoder_time)\n",
    "    index = np.zeros(size, dtype=int)\n",
    "    for i, v in enumerate(encoder_time):\n",
    "        index[i] = np.argmin(abs(v - lidar_time))\n",
    "        lidar_range.append(lidar[index[i]]['scan'])\n",
    "        lidar_angle.append(lidar[index[i]]['angle'])\n",
    "        #lidar_time.append(lidar[index[i]]['ts'])\n",
    "    return index, lidar_range, lidar_angle"
   ]
  },
  {
   "cell_type": "code",
   "execution_count": null,
   "metadata": {},
   "outputs": [],
   "source": [
    "encoder_t = load_data.get_encoder(os.path.join('data','Encoders20'))[4]\n",
    "lidar = load_data.get_lidar(os.path.join('data','Hokuyo20'))\n",
    "lidar_t = [temp['t'] for temp in lidar]"
   ]
  },
  {
   "cell_type": "code",
   "execution_count": null,
   "metadata": {},
   "outputs": [],
   "source": [
    "lidar_idx, lidar_range, lidar_angle = align_time(encoder_t, lidar_t, lidar)"
   ]
  },
  {
   "cell_type": "code",
   "execution_count": null,
   "metadata": {},
   "outputs": [],
   "source": [
    "def mapping(grid, position, lidar_range, lidar_angle):\n",
    "    '''\n",
    "    Update the grid map with log-odds.\n",
    "    Args:\n",
    "        grid (80, 80): grid map\n",
    "        scan (1081,): lidar ranges\n",
    "        pose (3,):  pose (x,y,theta)\n",
    "        res (float or int): resolution\n",
    "        empty_odds (float): empty odds\n",
    "        ocpy_odds (float): occupied odds\n",
    "    Returns:\n",
    "        grid map (80, 80)\n",
    "    '''\n",
    "    #grid_size = 50\n",
    "    #grid = np.zeros((grid_size,grid_size))\n",
    "    resolution = 0.05\n",
    "    logOddOcc = 3\n",
    "    logOddFree = -1\n",
    "    \n",
    "    # pixel value\n",
    "    value = 127\n",
    "\n",
    "    # convert from polar to Cartesian\n",
    "    theta_light = lidar_angle + position[2]\n",
    "    x = lidar_range.reshape(-1,1) * np.cos(theta_light) \n",
    "    y = lidar_range.reshape(-1,1) * np.sin(theta_light) \n",
    "\n",
    "    # discretization (1-d array)\n",
    "    xi = (x / resolution).astype(int)\n",
    "    yi = (y / resolution).astype(int)\n",
    "\n",
    "    wall_set = np.zeros_like(grid)\n",
    "    empty_set = np.zeros_like(grid)\n",
    "    \n",
    "    for i in range(len(xi)):\n",
    "        a = xi[i]\n",
    "        b = yi[i]\n",
    "        x1 = a + int(position[0]/resolution) + grid.shape[0]//2\n",
    "        y1 = b + int(position[1]/resolution) + grid.shape[1]//2\n",
    "        if 0 <= x1 < grid.shape[0] and 0 <= y1 < grid.shape[1]:\n",
    "            wall_set[x1, y1] = 1\n",
    "\n",
    "#         line = np.array(bresenham2D(0, 0, a, b)).astype(int)\n",
    "#         for j in range(len(line[0]) - 1):\n",
    "#             x2 = line[0][j] + int(position[0]) + grid.shape[0]//2\n",
    "#             y2 = line[1][j] + int(position[1]) + grid.shape[1]//2\n",
    "#             if 0 <= x2 < grid.shape[0] and 0 <= y2 < grid.shape[1]:\n",
    "#                 empty_set[x2, y2] = 1\n",
    "\n",
    "    grid[wall_set == 1] += logOddOcc\n",
    "#     grid[empty_set == 1] += logOddFree\n",
    "\n",
    "    grid[grid >= value] = value\n",
    "    grid[grid < -value] = -value\n",
    "\n",
    "    return grid"
   ]
  },
  {
   "cell_type": "code",
   "execution_count": null,
   "metadata": {
    "scrolled": true
   },
   "outputs": [],
   "source": [
    "grid_size = 1500\n",
    "grid = np.zeros((grid_size,grid_size))\n",
    "count = 0\n",
    "for i in range (len(position_travel)):\n",
    "    count += 1\n",
    "    print(count)\n",
    "    grid = mapping(grid, position_travel[i], lidar_range[i], lidar_angle[i])"
   ]
  },
  {
   "cell_type": "code",
   "execution_count": null,
   "metadata": {},
   "outputs": [],
   "source": [
    "grid\n",
    "np.save(os.path.join(\"grid\",\"test.npy\"), grid)"
   ]
  },
  {
   "cell_type": "code",
   "execution_count": null,
   "metadata": {},
   "outputs": [],
   "source": [
    "np.save(os.path.join(\"grid\",\"test.npy\"), grid)"
   ]
  },
  {
   "cell_type": "code",
   "execution_count": null,
   "metadata": {
    "scrolled": true
   },
   "outputs": [],
   "source": [
    "grid_1 = np.load(os.path.join(\"grid\",\"test.npy\"))\n",
    "s=60\n",
    "grid_1\n",
    "grid_1[grid_1< s] = 0\n",
    "grid_1[grid_1>= s] = 1\n",
    "plt.figure(figsize = (30,30))\n",
    "plt.imshow(grid_1)"
   ]
  },
  {
   "cell_type": "code",
   "execution_count": null,
   "metadata": {},
   "outputs": [],
   "source": [
    "grid"
   ]
  },
  {
   "cell_type": "code",
   "execution_count": null,
   "metadata": {},
   "outputs": [],
   "source": []
  }
 ],
 "metadata": {
  "kernelspec": {
   "display_name": "Python 2",
   "language": "python",
   "name": "python2"
  },
  "language_info": {
   "codemirror_mode": {
    "name": "ipython",
    "version": 2
   },
   "file_extension": ".py",
   "mimetype": "text/x-python",
   "name": "python",
   "nbconvert_exporter": "python",
   "pygments_lexer": "ipython2",
   "version": "2.7.15"
  }
 },
 "nbformat": 4,
 "nbformat_minor": 2
}
