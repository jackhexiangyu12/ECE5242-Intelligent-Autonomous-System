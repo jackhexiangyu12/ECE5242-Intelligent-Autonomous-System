{
 "cells": [
  {
   "cell_type": "markdown",
   "metadata": {},
   "source": [
    "# 1. Load Library"
   ]
  },
  {
   "cell_type": "code",
   "execution_count": 1,
   "metadata": {},
   "outputs": [],
   "source": [
    "import numpy as np\n",
    "import matplotlib.pyplot as plt \n",
    "from sklearn.metrics import mean_squared_error\n",
    "from math import sqrt\n",
    "import pickle\n"
   ]
  },
  {
   "cell_type": "markdown",
   "metadata": {},
   "source": [
    "# 2. Function Set"
   ]
  },
  {
   "cell_type": "code",
   "execution_count": 2,
   "metadata": {},
   "outputs": [],
   "source": [
    "def construct_trans(num_action,num_state):\n",
    "    trans=[]\n",
    "    for u in range(num_action):\n",
    "        p1=[]\n",
    "        for i in range(num_state):\n",
    "            p2=[]\n",
    "            for j in range(num_state):\n",
    "                p2.append(0)\n",
    "            p1.append(p2)\n",
    "        trans.append(p1)\n",
    "\n",
    "    for u in range(num_action):\n",
    "        for i in range(num_state):\n",
    "            trans[u][i][env.step(i,u)[1]]=1\n",
    "\n",
    "    return trans\n",
    "\n",
    "        \n",
    "\n",
    "    "
   ]
  },
  {
   "cell_type": "code",
   "execution_count": 3,
   "metadata": {},
   "outputs": [],
   "source": [
    "def inteprete_state(state):\n",
    "    cell=env.idx2cell[int(state/8)] \n",
    "    flag=env.num2flag(state%8)\n",
    "    \n",
    "    return (cell[0],cell[1],flag)"
   ]
  },
  {
   "cell_type": "code",
   "execution_count": 4,
   "metadata": {},
   "outputs": [],
   "source": [
    "def VI(num_state,num_action,ACTMAP,trans,rou,idx2cell,goal_pos):\n",
    "    Q,V,miu=[],[],[]\n",
    "    #initialize\n",
    "    Q.append([])\n",
    "    miu.append([])\n",
    "    V.append([0]*num_state)\n",
    "\n",
    "    #iteration begin\n",
    "    for k in range (1,N):\n",
    "        Q_k=[]\n",
    "        for i in range (num_state):\n",
    "            Q_ki=[]\n",
    "            for u in range(num_action):\n",
    "                Q_kiu=0\n",
    "                for slipcondition in range(2):\n",
    "                        if slipcondition==0:\n",
    "                            a=u\n",
    "                        else:\n",
    "                            a=ACTMAP[u]\n",
    "                        add=0\n",
    "                        for j in range(num_state):\n",
    "                            add+=trans[a][i][j]*V[k-1][j]\n",
    "\n",
    "                        if env.step(i,a)[2]==False: #not reach target cell\n",
    "                            cc=env.step(i,a)[0]+rou*add\n",
    "                        else: \n",
    "                            cc=env.step(i,a)[0]\n",
    "                        Q_kiu+=prob[slipcondition]*cc\n",
    "                Q_ki.append(Q_kiu)\n",
    "            Q_k.append(Q_ki)\n",
    "        Q.append(Q_k)\n",
    "\n",
    "        V_k,miu_k=[],[]\n",
    "        for i in range(num_state):\n",
    "            V_k.append(max(Q[k][i]))\n",
    "            miu_k.append(Q[k][i].index(max(Q[k][i])))\n",
    "\n",
    "        V.append(V_k)\n",
    "        miu.append(miu_k)\n",
    "\n",
    "    policy_VI=miu[-1]\n",
    "    Q_VI=Q[-1]\n",
    "    return policy_VI,Q_VI"
   ]
  },
  {
   "cell_type": "markdown",
   "metadata": {},
   "source": [
    "# 3. Value Iteration"
   ]
  },
  {
   "cell_type": "code",
   "execution_count": 5,
   "metadata": {},
   "outputs": [],
   "source": [
    "#maze environment\n",
    "from maze_VI import *\n",
    "env=Maze()"
   ]
  },
  {
   "cell_type": "code",
   "execution_count": 6,
   "metadata": {},
   "outputs": [],
   "source": [
    "#parameter\n",
    "num_state=112\n",
    "num_action=4\n",
    "slip=0.1\n",
    "rou=0.9\n",
    "#initialize\n",
    "state=env.reset()\n",
    "trans=construct_trans(num_action,num_state)\n",
    "prob=[1-slip,slip]\n",
    "N=1000\n",
    "idx2cell = {0: (0, 0), 1: (1, 0), 2: (3, 0), 3: (1, 1), 4: (2, 1), 5: (3, 1),6: (0, 2), 7: (1, 2), 8: (2, 2), 9: (1, 3), 10: (2, 3), 11: (3, 3), 12: (0, 4), 13: (1, 4)}\n",
    "goal_pos = (0,4)\n",
    "\n",
    "#value iteration for optimal policy\n",
    "policy_VI,Q_VI=VI(num_state,num_action,ACTMAP,trans,rou,idx2cell,goal_pos)  \n",
    "\n",
    "\n",
    "\n"
   ]
  },
  {
   "cell_type": "code",
   "execution_count": 7,
   "metadata": {},
   "outputs": [
    {
     "data": {
      "text/plain": [
       "[(0, 0, [0, 0, 0]),\n",
       " (1, 0, [0, 0, 0]),\n",
       " (1, 1, [0, 0, 0]),\n",
       " (1, 2, [0, 0, 0]),\n",
       " (0, 2, [1, 0, 0]),\n",
       " (1, 2, [1, 0, 0]),\n",
       " (1, 3, [1, 0, 0]),\n",
       " (2, 3, [1, 0, 0]),\n",
       " (3, 3, [1, 0, 1]),\n",
       " (2, 3, [1, 0, 1]),\n",
       " (1, 3, [1, 0, 1]),\n",
       " (1, 4, [1, 0, 1]),\n",
       " (0, 4, [1, 0, 1])]"
      ]
     },
     "execution_count": 7,
     "metadata": {},
     "output_type": "execute_result"
    }
   ],
   "source": [
    "#plot cell position and flag vector\n",
    "record=[]\n",
    "i=env.reset()\n",
    "record.append(inteprete_state(i))\n",
    "for k in range(100):\n",
    "    r,i,done=env.step(i,policy_VI[i])\n",
    "    record.append(inteprete_state(i))\n",
    "    if done==True:\n",
    "        break\n",
    "record"
   ]
  },
  {
   "cell_type": "code",
   "execution_count": 8,
   "metadata": {},
   "outputs": [],
   "source": [
    "#save\n",
    "f = open('store.pckl','wb')\n",
    "pickle.dump(Q_VI, f)\n",
    "pickle.dump(policy_VI,f)\n",
    "f.close()"
   ]
  }
 ],
 "metadata": {
  "kernelspec": {
   "display_name": "Python 3",
   "language": "python",
   "name": "python3"
  },
  "language_info": {
   "codemirror_mode": {
    "name": "ipython",
    "version": 3
   },
   "file_extension": ".py",
   "mimetype": "text/x-python",
   "name": "python",
   "nbconvert_exporter": "python",
   "pygments_lexer": "ipython3",
   "version": "3.7.1"
  }
 },
 "nbformat": 4,
 "nbformat_minor": 2
}
