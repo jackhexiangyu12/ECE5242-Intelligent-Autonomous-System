{
 "cells": [
  {
   "cell_type": "markdown",
   "metadata": {},
   "source": [
    "#### ECE5242: Intelligent Autonomous Systems\n",
    "#### Project 4: Reinforcement Learning\n",
    "#### Due Date: 4/17/2019 at 1:40pm\n",
    "\n",
    "\n",
    "#### Yantao Yu, yy849@cornell.edu\n",
    "#### This project is collaborated with Sijia Gao"
   ]
  },
  {
   "cell_type": "markdown",
   "metadata": {},
   "source": [
    "### Citations:\n",
    "\n",
    "#### 1: Deep-reinforcement-learning: Hill-climbing, udacity\n",
    "#### https://github.com/udacity/deep-reinforcement-learning/tree/master/hill-climbing\n",
    "\n",
    "#### 2: Deep-reinforcement-learning, Udacity's Deep Reinforcement Learning Nanodegree program\n",
    "#### https://github.com/udacity/deep-reinforcement-learning\n",
    "\n",
    "#### 3. Simple reinforcement learning methods to learn CartPole (Hill-climbing, Policy Gradient with TenserFlow), 01 JULY 2016 on research\n",
    "#### http://kvfrans.com/simple-algoritms-for-solving-cartpole/\n",
    "#### https://github.com/kvfrans/openai-cartpole\n",
    "\n",
    "#### 4. EINFORCE (Monte Carlo Policy Gradients) with OpenAI Gym's Cartpole environment\n",
    "#### https://github.com/udacity/deep-reinforcement-learning/tree/master/reinforce"
   ]
  },
  {
   "cell_type": "markdown",
   "metadata": {},
   "source": [
    "### Part#3: Acrobot-V1: \n",
    "### Train Hill Climbing With Adaptive Noise Scaling to Search Linear Function Approximation of Policy"
   ]
  },
  {
   "cell_type": "code",
   "execution_count": 39,
   "metadata": {},
   "outputs": [],
   "source": [
    "import gym\n",
    "import numpy as np\n",
    "from collections import deque\n",
    "import matplotlib.pyplot as plt\n",
    "%matplotlib inline"
   ]
  },
  {
   "cell_type": "code",
   "execution_count": 40,
   "metadata": {},
   "outputs": [],
   "source": [
    "# Citation:\n",
    "# Hill Climbing\n",
    "# https://github.com/udacity/deep-reinforcement-learning/blob/master/hill-climbing/Hill_Climbing.ipynb\n",
    "\n",
    "def get_action(weights, state):  \n",
    "    # define the policy function:\n",
    "    # input: weights, state  output: action\n",
    "    \n",
    "    # calculate the prob for each action pick the action with maximum prob\n",
    "    temp = np.dot(state, weights)\n",
    "    probs = np.exp(temp)/sum(np.exp(temp))\n",
    "    \n",
    "    # pick the action with maximum prob \n",
    "    # action = np.random.choice(2, p=probs) # option 1: stochastic policy\n",
    "    action = np.argmax(probs)              # option 2: deterministic policy\n",
    "    return action"
   ]
  },
  {
   "cell_type": "code",
   "execution_count": 41,
   "metadata": {},
   "outputs": [],
   "source": [
    "def get_discount_rewards(discount_gamma, rewards):\n",
    "    # calculate discounted rewards\n",
    "    discounts = []\n",
    "    for i in range (len(rewards)):\n",
    "        discounts.append(discount_gamma**i)\n",
    "    temp = np.multiply(discounts, rewards)\n",
    "    total_discount_rewards = np.sum(temp)\n",
    "    return total_discount_rewards "
   ]
  },
  {
   "cell_type": "code",
   "execution_count": 42,
   "metadata": {},
   "outputs": [],
   "source": [
    "def update_policy_weights(best_discount_rewards, best_weights, discount_rewards, weights, noise_scale):\n",
    "    # found better weights\n",
    "    if discount_rewards >= best_discount_rewards:\n",
    "        # update best discounted total rewards and linear policy weight matrix\n",
    "        best_discount_rewards = discount_rewards\n",
    "        best_weights = weights\n",
    "        noise_scale = max(1e-3, noise_scale / 2)\n",
    "        weights += noise_scale * np.random.rand(*weights.shape) \n",
    "    else:\n",
    "        noise_scale = min(2, noise_scale * 2)\n",
    "        weights = best_weights + noise_scale * np.random.rand(*weights.shape)\n",
    "    return best_discount_rewards, best_weights, weights"
   ]
  },
  {
   "cell_type": "code",
   "execution_count": 43,
   "metadata": {},
   "outputs": [],
   "source": [
    "# Citation:\n",
    "# Hill Climbing\n",
    "# https://github.com/udacity/deep-reinforcement-learning/blob/master/hill-climbing/Hill_Climbing.ipynb\n",
    "\n",
    "def hill_climbing(env, num_episodes, max_timestep, discount_gamma, print_time, noise_scale,state_dim):\n",
    "    # define the hill climbing algorithm with adaptive noise scaling.\n",
    "    # inputs:\n",
    "    # env: enviroment for simulation\n",
    "    # num_episodes (int): maximum number of training episodes\n",
    "    # max_timestep (int): maximum number of steps for each episode, stop at maximum step \n",
    "    # discount_gamma (float): discount rate for future rewards\n",
    "    # print_time (int): how often to print average score (over last 100 episodes)\n",
    "    # noise_scale (float): standard deviation of additive noise, increase the scale to faster converge if stucks\n",
    "    \n",
    "        \n",
    "    # initialize the linear function of policy randomly \n",
    "    # weights for simple linear policy: size = state_space x action_space\n",
    "    weights = 1e-4*np.random.rand(state_dim, env.action_space.n)  \n",
    "    \n",
    "    # initialize the variables for storage\n",
    "    best_discount_rewards = -np.Inf\n",
    "    best_weights = []\n",
    "    scores_deque = deque(maxlen = 100)\n",
    "    scores = []\n",
    "\n",
    "    for i in range(1, num_episodes + 1):\n",
    "        rewards = []\n",
    "        state = env.reset()\n",
    "        for t in range(max_timestep):\n",
    "            action = get_action(weights,state)\n",
    "            next_state, reward, done, _ = env.step(action)\n",
    "            rewards.append(reward)\n",
    "            if done:\n",
    "                break \n",
    "            else:\n",
    "                state = next_state\n",
    "        scores_deque.append(sum(rewards))\n",
    "        scores.append(sum(rewards))\n",
    "        \n",
    "        # calculate total discounted rewards\n",
    "        discount_rewards = get_discount_rewards(discount_gamma, rewards)\n",
    "\n",
    "        # update variables\n",
    "        best_discount_rewards, best_weights, weights = update_policy_weights(best_discount_rewards, best_weights, discount_rewards, weights, noise_scale)\n",
    "\n",
    "        # print score every period\n",
    "        if i % print_time == 0:\n",
    "            print('Episode {}\\tAverage Score: {:.2f}'.format(i, np.mean(scores_deque)))\n",
    "#         if np.mean(scores_deque)>=195.0:\n",
    "#             print('Environment solved in {:d} episodes!\\tAverage Score: {:.2f}'.format(i_episode-100, np.mean(scores_deque)))\n",
    "#             policy.w = best_w\n",
    "#             break\n",
    "        \n",
    "    return scores, best_weights"
   ]
  },
  {
   "cell_type": "markdown",
   "metadata": {},
   "source": [
    "### Run Hill Climbing"
   ]
  },
  {
   "cell_type": "code",
   "execution_count": 44,
   "metadata": {},
   "outputs": [
    {
     "name": "stdout",
     "output_type": "stream",
     "text": [
      "action space: Discrete(3)\n",
      "observation space: Box(6,)\n"
     ]
    }
   ],
   "source": [
    "# Import and initialize Acrobot V1 environment\n",
    "env = gym.make('Acrobot-v1')\n",
    "#env = gym.make('MountainCar-v0')\n",
    "env.reset()\n",
    "print('action space:', env.action_space) \n",
    "print('observation space:', env.observation_space) "
   ]
  },
  {
   "cell_type": "code",
   "execution_count": 45,
   "metadata": {
    "scrolled": true
   },
   "outputs": [
    {
     "name": "stdout",
     "output_type": "stream",
     "text": [
      "Episode 100\tAverage Score: -278.84\n",
      "Episode 200\tAverage Score: -232.39\n",
      "Episode 300\tAverage Score: -168.46\n",
      "Episode 400\tAverage Score: -99.76\n",
      "Episode 500\tAverage Score: -105.39\n",
      "Episode 600\tAverage Score: -124.52\n",
      "Episode 700\tAverage Score: -108.86\n",
      "Episode 800\tAverage Score: -98.70\n",
      "Episode 900\tAverage Score: -88.65\n",
      "Episode 1000\tAverage Score: -114.40\n",
      "Episode 1100\tAverage Score: -168.00\n",
      "Episode 1200\tAverage Score: -142.21\n",
      "Episode 1300\tAverage Score: -146.06\n",
      "Episode 1400\tAverage Score: -158.84\n",
      "Episode 1500\tAverage Score: -110.34\n",
      "Episode 1600\tAverage Score: -96.91\n",
      "Episode 1700\tAverage Score: -90.72\n",
      "Episode 1800\tAverage Score: -127.65\n",
      "Episode 1900\tAverage Score: -136.40\n",
      "Episode 2000\tAverage Score: -139.25\n",
      "Episode 2100\tAverage Score: -119.28\n",
      "Episode 2200\tAverage Score: -98.31\n",
      "Episode 2300\tAverage Score: -87.34\n",
      "Episode 2400\tAverage Score: -93.81\n",
      "Episode 2500\tAverage Score: -90.71\n",
      "Episode 2600\tAverage Score: -91.53\n",
      "Episode 2700\tAverage Score: -89.88\n",
      "Episode 2800\tAverage Score: -90.14\n",
      "Episode 2900\tAverage Score: -87.91\n",
      "Episode 3000\tAverage Score: -88.02\n",
      "Episode 3100\tAverage Score: -86.83\n",
      "Episode 3200\tAverage Score: -84.11\n",
      "Episode 3300\tAverage Score: -83.55\n",
      "Episode 3400\tAverage Score: -84.57\n",
      "Episode 3500\tAverage Score: -86.51\n",
      "Episode 3600\tAverage Score: -92.69\n",
      "Episode 3700\tAverage Score: -89.96\n",
      "Episode 3800\tAverage Score: -97.21\n",
      "Episode 3900\tAverage Score: -92.56\n",
      "Episode 4000\tAverage Score: -82.24\n",
      "Episode 4100\tAverage Score: -87.45\n",
      "Episode 4200\tAverage Score: -92.45\n",
      "Episode 4300\tAverage Score: -90.46\n",
      "Episode 4400\tAverage Score: -85.49\n",
      "Episode 4500\tAverage Score: -89.32\n",
      "Episode 4600\tAverage Score: -84.78\n",
      "Episode 4700\tAverage Score: -87.24\n",
      "Episode 4800\tAverage Score: -85.49\n",
      "Episode 4900\tAverage Score: -89.61\n",
      "Episode 5000\tAverage Score: -91.64\n"
     ]
    }
   ],
   "source": [
    "num_episodes=5000\n",
    "max_timestep=1000\n",
    "discount_gamma=1.0\n",
    "noise_scale=1e-2\n",
    "print_time=100\n",
    "\n",
    "#state_dim=2 #for mountaincar\n",
    "state_dim=6 #for acrobot\n",
    "\n",
    "env.seed(0)\n",
    "np.random.seed(0)\n",
    "rewards, best_policy_weight = hill_climbing(env, num_episodes, max_timestep, discount_gamma, print_time, noise_scale,state_dim)"
   ]
  },
  {
   "cell_type": "markdown",
   "metadata": {},
   "source": [
    "### Plot average rewards vs. episodes"
   ]
  },
  {
   "cell_type": "code",
   "execution_count": 46,
   "metadata": {},
   "outputs": [
    {
     "data": {
      "image/png": "[encoded data removed]",
      "text/plain": [
       "<Figure size 864x432 with 1 Axes>"
      ]
     },
     "metadata": {
      "needs_background": "light"
     },
     "output_type": "display_data"
    }
   ],
   "source": [
    "fig = plt.figure(figsize=(12,6))\n",
    "plt.plot(np.arange(1, len(rewards)+1), rewards)\n",
    "plt.ylabel('Average Rewards')\n",
    "plt.xlabel('Episode #')\n",
    "plt.savefig('Acrobot_policy optimization_hill climbing')\n",
    "plt.show()"
   ]
  },
  {
   "cell_type": "markdown",
   "metadata": {},
   "source": [
    "### Simulate the agent motion:\n"
   ]
  },
  {
   "cell_type": "code",
   "execution_count": 47,
   "metadata": {},
   "outputs": [],
   "source": [
    "# env = gym.make('Acrobot-v1')\n",
    "state = env.reset()\n",
    "for t in range(200):\n",
    "    action = get_action(best_policy_weight, state)\n",
    "    env.render()\n",
    "    state, reward, done, _ = env.step(action)\n",
    "    if done:\n",
    "        break \n",
    "env.close()"
   ]
  },
  {
   "cell_type": "code",
   "execution_count": null,
   "metadata": {},
   "outputs": [],
   "source": []
  }
 ],
 "metadata": {
  "kernelspec": {
   "display_name": "Python 3",
   "language": "python",
   "name": "python3"
  },
  "language_info": {
   "codemirror_mode": {
    "name": "ipython",
    "version": 3
   },
   "file_extension": ".py",
   "mimetype": "text/x-python",
   "name": "python",
   "nbconvert_exporter": "python",
   "pygments_lexer": "ipython3",
   "version": "3.7.1"
  }
 },
 "nbformat": 4,
 "nbformat_minor": 2
}
